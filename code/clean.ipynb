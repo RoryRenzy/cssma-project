{
 "cells": [
  {
   "cell_type": "code",
   "execution_count": null,
   "id": "80b157ca-45db-4c19-ae92-8c712331b755",
   "metadata": {},
   "outputs": [],
   "source": [
    "pip install xlrd --break-system-packages"
   ]
  },
  {
   "cell_type": "code",
   "execution_count": null,
   "id": "5ec36fab-786a-4b56-a546-29520662f7aa",
   "metadata": {},
   "outputs": [],
   "source": [
    "pip install openpyxl --break-system-packages"
   ]
  },
  {
   "cell_type": "code",
   "execution_count": null,
   "id": "35182801-9ee5-45f5-9072-bfb02c6e6e6e",
   "metadata": {},
   "outputs": [],
   "source": [
    "import pandas as pd"
   ]
  },
  {
   "cell_type": "code",
   "execution_count": null,
   "id": "25592026-cb80-44e2-99d1-e3e131d7ac39",
   "metadata": {},
   "outputs": [],
   "source": [
    "ls \"../data/Rory Renzy - HOA Data Public Record Request/\""
   ]
  },
  {
   "cell_type": "code",
   "execution_count": null,
   "id": "cb7962fe-d096-412f-aad6-e93a1829d785",
   "metadata": {},
   "outputs": [],
   "source": [
    "# Load in the first of the three January files\n",
    "first_chunk_df = pd.read_excel(\"../data/Rory Renzy - HOA Data Public Record Request/2016/NRED HOA - 01 2016.xls\")\n",
    "first_chunk_df"
   ]
  },
  {
   "cell_type": "code",
   "execution_count": null,
   "id": "94dd0ee2-dcef-4455-b717-03ba1037c1a3",
   "metadata": {},
   "outputs": [],
   "source": [
    "# Create a subset of observations that have management companies associated with them \n",
    "# Then sort in ascending alphabetical order according to the management company names\n",
    "sorted2016 = first_chunk_df[first_chunk_df['Address1'].str.contains('C/O', na=False)].sort_values(by='Address1')\n",
    "sorted_2016['City'] = sorted_2016['City'].str.title()\n",
    "\n",
    "# Store the division's typos as a dictionary and replace the values (both for cities and company names)\n",
    "typos_cities_2016 = {\n",
    "    'Hendersn': 'Henderson',\n",
    "    'N. Las Vegas': 'N Las Vegas'\n",
    "}\n",
    "\n",
    "typos_companies_2016 = {\n",
    "    \n",
    "}\n",
    "\n",
    "sorted_2016['City'] = sorted_2016['City'].replace(typos_cities_2016)\n",
    "# sorted_2016['Address1'] = sorted_2016['Address1'].replace(typos_comapnies_2016)\n",
    "\n",
    "sorted_2016"
   ]
  },
  {
   "cell_type": "code",
   "execution_count": null,
   "id": "0cb734c4-bb41-4392-b8e5-e1e278b9fa58",
   "metadata": {},
   "outputs": [],
   "source": [
    "second_chunk_df = pd.read_excel(\"../data/Rory Renzy - HOA Data Public Record Request/2020/NRED HOA - 01 2020.xlsx\")\n",
    "second_chunk_df"
   ]
  },
  {
   "cell_type": "code",
   "execution_count": null,
   "id": "46407db3-6881-493d-a2c0-87613613da5d",
   "metadata": {},
   "outputs": [],
   "source": [
    "sorted2020 = second_chunk_df[second_chunk_df['Address1'].str.contains('C/O', na=False)].sort_values(by='Address1')\n",
    "sorted_2020['City'] = sorted_2020['City'].str.title()\n",
    "\n",
    "typos_cities_2020 = {\n",
    "    'Gardnersville': 'Gardnerville',\n",
    "    'North Las Vegas': 'N Las Vegas',\n",
    "    'N. Las Vegas': 'N Las Vegas',\n",
    "    'No Las Vegas': 'N Las Vegas'\n",
    "}\n",
    "\n",
    "# typos_companies_2020 = {}\n",
    "\n",
    "sorted_2020['City'] = sorted_2020['City'].replace(typos_cities_2020)\n",
    "# sorted_2020['Address1'] = sorted_2020['Address1'].replace(typos_comapnies_2020)\n",
    "\n",
    "sorted_2020"
   ]
  },
  {
   "cell_type": "code",
   "execution_count": null,
   "id": "7512dacd-3d08-4010-9c2d-2305d95993dd",
   "metadata": {},
   "outputs": [],
   "source": [
    "third_chunk_df = pd.read_excel(\"../data/Rory Renzy - HOA Data Public Record Request/2024/NRED HOA - 01 2024.xlsx\")\n",
    "third_chunk_df"
   ]
  },
  {
   "cell_type": "code",
   "execution_count": null,
   "id": "a05783df-0d66-4202-941b-c65321341795",
   "metadata": {},
   "outputs": [],
   "source": [
    "sorted_2024 = third_chunk_df[third_chunk_df['Address1'].str.contains('C/O', na=False)].sort_values(by='Address1')\n",
    "sorted_2024['City'] = sorted_2024['City'].str.title()\n",
    "\n",
    "typos_cities_2024 = {\n",
    "    'Carso City': 'Carson City',\n",
    "    'Carson': 'Carson City',\n",
    "    'Las Veas': 'Las Vegas',\n",
    "    'Lasv Egas': 'Las Vegas',\n",
    "    'N. Las Vegas': 'N Las Vegas',\n",
    "    'North Las Vegas': 'N Las Vegas',\n",
    "}\n",
    "\n",
    "# typos_companies_2024 = {}\n",
    "\n",
    "sorted_2024['City'] = sorted_2024['City'].replace(typos_cities_2024)\n",
    "# sorted_2024['Address1'] = sorted_2024['Address1'].replace(typos_comapnies_2024)\n",
    "\n",
    "sorted_2024"
   ]
  }
 ],
 "metadata": {
  "kernelspec": {
   "display_name": "Python 3 (ipykernel)",
   "language": "python",
   "name": "python3"
  },
  "language_info": {
   "codemirror_mode": {
    "name": "ipython",
    "version": 3
   },
   "file_extension": ".py",
   "mimetype": "text/x-python",
   "name": "python",
   "nbconvert_exporter": "python",
   "pygments_lexer": "ipython3",
   "version": "3.11.6"
  }
 },
 "nbformat": 4,
 "nbformat_minor": 5
}
