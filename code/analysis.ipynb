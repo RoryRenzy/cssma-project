{
 "cells": [
  {
   "cell_type": "code",
   "execution_count": 16,
   "id": "f3abecc2-0a38-40b9-a9a9-35586986df26",
   "metadata": {},
   "outputs": [],
   "source": [
    "## Construct the 2016 network\n",
    "\n",
    "import pandas as pd\n",
    "import networkx as nx\n",
    "import matplotlib.pyplot as plt\n",
    "\n",
    "sorted_2016 = pd.read_csv('../Data/Cleaned files/sorted_2016.csv') # Load in our cleaned file\n",
    "sorted_2016\n",
    "\n",
    "# Visuals\n",
    "unique_companies_2016 = sorted_2016['Address1'].unique() # Pull out the individual names\n",
    "\n",
    "networks_2016 = {} # We technically make a network for each management company, but display them all in the same graphic\n",
    "\n",
    "for company_2016 in unique_companies_2016: # Iterate over each management company and pull out its title; construct a graph for each as well\n",
    "    company_data_2016 = sorted_2016[sorted_2016['Address1'] == company_2016]\n",
    "    company_network_2016 = nx.Graph()\n",
    "\n",
    "# Statistics"
   ]
  },
  {
   "cell_type": "code",
   "execution_count": null,
   "id": "381cc934-8bbb-4fbd-a1f0-41221ceb0830",
   "metadata": {},
   "outputs": [],
   "source": [
    "## Construct the 2020 network\n",
    "\n",
    "sorted_2020 = pd.read_csv('../Data/Cleaned files/sorted_2020.csv') \n",
    "sorted_2020\n",
    "\n",
    "# Visuals\n",
    "unique_companies_2020 = sorted_2020['Address1'].unique() \n",
    "\n",
    "networks_2020 = {} \n",
    "\n",
    "for company_2020 in unique_companies_2020:\n",
    "    company_data_2020 = sorted_2020[sorted_2020['Address1'] == company_2020]\n",
    "    company_network_2020 = nx.Graph()\n",
    "\n",
    "# Statistics"
   ]
  },
  {
   "cell_type": "code",
   "execution_count": null,
   "id": "e3013aaa-bb6e-483e-b786-be52262d4de4",
   "metadata": {},
   "outputs": [],
   "source": [
    "## Construct the 2024 network\n",
    "\n",
    "sorted_2024 = pd.read_csv('../Data/Cleaned files/sorted_2024.csv') # Load in our cleaned file\n",
    "sorted_2024\n",
    "\n",
    "# Visuals\n",
    "unique_companies_2024 = sorted_2024['Address1'].unique() \n",
    "\n",
    "networks_2024 = {} \n",
    "\n",
    "for company_2024 in unique_companies_2024:\n",
    "    company_data_2024 = sorted_2024[sorted_2024['Address1'] == company_2024]\n",
    "    company_network_2024 = nx.Graph()\n",
    "\n",
    "# Statistics"
   ]
  }
 ],
 "metadata": {
  "kernelspec": {
   "display_name": "Python 3 (ipykernel)",
   "language": "python",
   "name": "python3"
  },
  "language_info": {
   "codemirror_mode": {
    "name": "ipython",
    "version": 3
   },
   "file_extension": ".py",
   "mimetype": "text/x-python",
   "name": "python",
   "nbconvert_exporter": "python",
   "pygments_lexer": "ipython3",
   "version": "3.11.6"
  }
 },
 "nbformat": 4,
 "nbformat_minor": 5
}
